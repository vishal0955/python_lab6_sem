{
  "metadata": {
    "language_info": {
      "codemirror_mode": {
        "name": "python",
        "version": 3
      },
      "file_extension": ".py",
      "mimetype": "text/x-python",
      "name": "python",
      "nbconvert_exporter": "python",
      "pygments_lexer": "ipython3",
      "version": "3.8"
    },
    "kernelspec": {
      "name": "python",
      "display_name": "Pyolite",
      "language": "python"
    }
  },
  "nbformat_minor": 4,
  "nbformat": 4,
  "cells": [
    {
      "cell_type": "code",
      "source": "#prog to use of data types\n\n#int\na= 5\nprint(type(a))\n\n#string\nb = \"python\"\nprint(type(b))\n\n#float\nc = 5.11\nprint(type(c))\n\n#list\nlist = [1,2,\"name\",1.2,'d']\nprint(type(list))\n\n#tuple\nt = {1,2,3,4}\nprint(type(t))\n\n#set\ns=(4,23,6,44)\nprint(type(s))\n\n#bool\nd = True\nprint(type(d))\n\n#dictionary\nf = {\"a\":12 , \"b\":13}\nprint(type(f))\n\n\n",
      "metadata": {
        "trusted": true
      },
      "execution_count": 5,
      "outputs": [
        {
          "name": "stdout",
          "text": "<class 'int'>\n<class 'str'>\n<class 'float'>\n<class 'list'>\n<class 'set'>\n<class 'tuple'>\n<class 'bool'>\n<class 'dict'>\n",
          "output_type": "stream"
        }
      ]
    },
    {
      "cell_type": "code",
      "source": "",
      "metadata": {},
      "execution_count": null,
      "outputs": []
    },
    {
      "cell_type": "code",
      "source": "",
      "metadata": {},
      "execution_count": null,
      "outputs": []
    },
    {
      "cell_type": "code",
      "source": "",
      "metadata": {},
      "execution_count": null,
      "outputs": []
    }
  ]
}